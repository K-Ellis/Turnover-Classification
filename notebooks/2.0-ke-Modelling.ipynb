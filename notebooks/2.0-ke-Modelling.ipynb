{
 "cells": [
  {
   "cell_type": "markdown",
   "metadata": {},
   "source": [
    "# Import Packages"
   ]
  },
  {
   "cell_type": "code",
   "execution_count": 1,
   "metadata": {},
   "outputs": [],
   "source": [
    "import pandas as pd\n",
    "import numpy as np\n",
    "import matplotlib.pyplot as plt\n",
    "%matplotlib inline\n",
    "from sklearn.model_selection import train_test_split\n",
    "from sklearn.linear_model import LogisticRegression\n",
    "from sklearn.ensemble import RandomForestClassifier\n",
    "from sklearn.preprocessing import MinMaxScaler, LabelEncoder\n",
    "from sklearn.metrics import confusion_matrix, average_precision_score, precision_score, recall_score, roc_auc_score\n",
    "import xgboost as xgb\n",
    "from imblearn.over_sampling import RandomOverSampler\n",
    "from sklearn.decomposition import PCA\n",
    "import seaborn as sns\n",
    "\n",
    "import sys\n",
    "sys.path.insert(0, '../src/')\n",
    "from evaluation.plot_confusion_matrix import plot_confusion_matrix\n",
    "from preprocessing.pre_ml_process import pre_ml_process, pre_ml_process_no_resample, pre_ml_process_resample_PolyFeatures"
   ]
  },
  {
   "cell_type": "markdown",
   "metadata": {},
   "source": [
    "# Import Data"
   ]
  },
  {
   "cell_type": "code",
   "execution_count": 2,
   "metadata": {},
   "outputs": [],
   "source": [
    "df_raw = pd.read_csv(\"../../data/dataset.csv\", encoding=\"cp1252\")"
   ]
  },
  {
   "cell_type": "markdown",
   "metadata": {},
   "source": [
    "# Data Cleaning"
   ]
  },
  {
   "cell_type": "code",
   "execution_count": 3,
   "metadata": {},
   "outputs": [],
   "source": [
    "df = df_raw.dropna()\n",
    "df = df.loc[df[\"f7\"] != \"#\"]\n",
    "df[\"f7\"] = df[\"f7\"].astype(float)\n",
    "\n",
    "# f9\n",
    "# remove the unknown record and binary encode the remaining two classes\n",
    "df = df.loc[df[\"f9\"] != \"unknown\"]\n",
    "df = df.reset_index(drop=True)\n",
    "\n",
    "le_f9 = LabelEncoder()\n",
    "df[\"f9\"] = le_f9.fit_transform(df[\"f9\"])\n",
    "\n",
    "numerical_cols = df.dtypes[df.dtypes != object].index.tolist()\n",
    "df_num = df[numerical_cols]\n",
    "df_num = df_num.drop(\"employee_id\", axis=1)"
   ]
  },
  {
   "cell_type": "markdown",
   "metadata": {
    "toc-hr-collapsed": false
   },
   "source": [
    "# Preprocessing & Modelling"
   ]
  },
  {
   "cell_type": "code",
   "execution_count": 4,
   "metadata": {},
   "outputs": [],
   "source": [
    "def output_metrics(clf, X, y, metric, printing=True, returning=True):\n",
    "    if metric == average_precision_score:\n",
    "        y_hat = clf.predict_proba(X)[:,1]\n",
    "    else:\n",
    "        y_hat = clf.predict(X)\n",
    "    score = metric(y, y_hat)\n",
    "    if printing:\n",
    "        print(score)\n",
    "    if returning:\n",
    "        return score\n",
    "    \n",
    "    \n",
    "def evaluate_model(clf, X_train_resample_scaled, X_test_scaled, y_train, y_test, df_in, scaler, ros, poly_transformer,\n",
    "                   printing=True):\n",
    "    # Get predictions\n",
    "    y_hat_train = clf.predict(X_train_resample_scaled)\n",
    "    y_hat_test = clf.predict(X_test_scaled)\n",
    "    y_proba_test = clf.predict_proba(X_test_scaled)[:,1]\n",
    "\n",
    "\n",
    "    # Confusion Matrix\n",
    "    df_cm = confusion_matrix(y_test, y_hat_test, labels=[1, 0])\n",
    "    \n",
    "    if printing:\n",
    "        plot_confusion_matrix(df_cm, \n",
    "                          target_names=[1, 0], \n",
    "                          title=\"%s Confusion Matrix\" % (type(clf).__name__),\n",
    "                          normalize=True)\n",
    "    # accuracy metrics\n",
    "    ap = average_precision_score(y_test, y_proba_test)\n",
    "    ps = precision_score(y_test, y_hat_test)\n",
    "    rs = recall_score(y_test, y_hat_test)\n",
    "    roc = roc_auc_score(y_test, y_hat_test)\n",
    "    \n",
    "    output_d = {}\n",
    "    output_d[\"clf\"] = clf\n",
    "    output_d[\"X_train_resample_scaled\"] = X_train_resample_scaled\n",
    "    output_d[\"X_test_scaled\"] = X_test_scaled\n",
    "    output_d[\"y_train\"] = y_train\n",
    "    output_d[\"y_test\"] = y_test\n",
    "    output_d[\"y_hat_train\"] = y_hat_train\n",
    "    output_d[\"y_hat_test\"] = y_hat_test\n",
    "    output_d[\"y_proba_test\"] = y_proba_test\n",
    "    output_d[\"df_cm\"] = df_cm\n",
    "    output_d[\"ap\"] = ap\n",
    "    output_d[\"ps\"] = ps\n",
    "    output_d[\"rs\"] = rs\n",
    "    output_d[\"roc\"] = roc\n",
    "    output_d[\"scaler\"] = scaler\n",
    "    output_d[\"poly_transformer\"] = poly_transformer\n",
    "    \n",
    "    if printing:\n",
    "        print(\"average_precision_score = {:.3f}\".format(ap))\n",
    "        print(\"precision_score = {:.3f}\".format(ps))\n",
    "        print(\"recall_score = {:.3f}\".format(rs))\n",
    "        print(\"roc_auc_score = {:.3f}\".format(roc))\n",
    "    \n",
    "    if type(clf).__name__ == \"RandomForestClassifier\" or type(clf).__name__ == \"XGBClassifier\":\n",
    "        df_feature_importances = pd.DataFrame(clf.feature_importances_, columns=[\"Importance\"])\n",
    "        col_names = df_in.columns.tolist()\n",
    "        col_names.remove(\"has_left\")\n",
    "        df_feature_importances[\"Feature_names\"] = col_names\n",
    "        df_feature_importances.sort_values(\"Importance\", ascending=False, inplace=True)\n",
    "        df_feature_importances = df_feature_importances.round(4)\n",
    "        output_d[\"df_feature_importances\"] = df_feature_importances\n",
    "\n",
    "        if printing:\n",
    "            print(df_feature_importances)\n",
    "    \n",
    "    return output_d #[y_hat_train, y_hat_test, y_proba_test, df_cm, ap, ps, rs, roc]"
   ]
  },
  {
   "cell_type": "code",
   "execution_count": 5,
   "metadata": {},
   "outputs": [],
   "source": [
    "def preprocess_train_eval(df_in, \n",
    "                          LRC=LogisticRegression(solver=\"lbfgs\", random_state=0), \n",
    "                          RFC=RandomForestClassifier(class_weight=\"balanced\", n_estimators=100, random_state=0), \n",
    "                          \n",
    "                          XG_params = {\"random_state\":0}, \n",
    "                          xgb_fit_eval_metric=\"aucpr\",\n",
    "\n",
    "                          printing=False, printing_ap=False, returning=True, split_random_state=42,\n",
    "                          printing_rs=False,\n",
    "\n",
    "                         train_test_split_random_state=42,\n",
    "                         RandomOverSampler_random_state=42,\n",
    "                         test_size=0.33,\n",
    "                         preprocessing_function=pre_ml_process\n",
    "                         ):\n",
    "    \n",
    "    df_in, X, y, X_train, X_test, y_train, y_test, \\\n",
    "                scaler, X_train_resample_scaled, y_train_resample, \\\n",
    "                X_test_scaled, ros, poly_transformer = \\\n",
    "                preprocessing_function(df_in, \n",
    "                               test_size,\n",
    "                               train_test_split_random_state,\n",
    "                               RandomOverSampler_random_state)\n",
    "\n",
    "    outputs = {}\n",
    "    \n",
    "    # Train with Logistic Regression\n",
    "    if LRC != None:\n",
    "        clf_LR = LRC.fit(X_train_resample_scaled, y_train_resample)\n",
    "        outputs_LR = evaluate_model(clf_LR, X_train_resample_scaled, X_test_scaled, y_train, y_test, \n",
    "                                    df_in, scaler, ros, poly_transformer, printing)\n",
    "        if printing_ap:\n",
    "            print(\"LR ap = {:.3f}\".format(outputs_LR[\"ap\"]))\n",
    "        if printing_rs:\n",
    "            print(\"LR rs = {:.3f}\".format(outputs_LR[\"rs\"]))\n",
    "        outputs[\"LR\"] = outputs_LR\n",
    "    \n",
    "    # Train with Random Forest Classifier\n",
    "    if RFC != None:\n",
    "        clf_RF = RFC.fit(X_train_resample_scaled, y_train_resample)\n",
    "        outputs_RF = evaluate_model(clf_RF, X_train_resample_scaled, X_test_scaled, y_train, y_test, \n",
    "                                    df_in, scaler, ros, poly_transformer, printing)\n",
    "        if printing_ap:\n",
    "            print(\"RF ap = {:.3f}\".format(outputs_RF[\"ap\"]))\n",
    "        if printing_rs:\n",
    "            print(\"RF rs = {:.3f}\".format(outputs_RF[\"rs\"]))\n",
    "        outputs[\"RF\"] = outputs_RF\n",
    "\n",
    "    \n",
    "    # Train with XGBoost Classifier\n",
    "    if XG_params != None:\n",
    "        clf_XG = xgb.XGBClassifier()\n",
    "        clf_XG.set_params(**XG_params)\n",
    "        \n",
    "        clf_XG.fit(X_train_resample_scaled, y_train_resample, eval_metric=xgb_fit_eval_metric)\n",
    "        outputs_XG = evaluate_model(clf_XG, X_train_resample_scaled, X_test_scaled, y_train, y_test, \n",
    "                                    df_in, scaler, ros, poly_transformer, printing)\n",
    "        if printing_ap:\n",
    "            print(\"XG ap = {:.3f}\".format(outputs_XG[\"ap\"]))\n",
    "        if printing_rs:\n",
    "            print(\"XG rs = {:.3f}\".format(outputs_XG[\"rs\"]))\n",
    "        outputs[\"XG\"] = outputs_XG   \n",
    "    \n",
    "    if returning:\n",
    "        return outputs\n"
   ]
  },
  {
   "cell_type": "markdown",
   "metadata": {},
   "source": [
    "## Baseline"
   ]
  },
  {
   "cell_type": "code",
   "execution_count": 6,
   "metadata": {},
   "outputs": [
    {
     "data": {
      "image/png": "[encoded data removed]",
      "text/plain": [
       "<Figure size 576x432 with 2 Axes>"
      ]
     },
     "metadata": {
      "needs_background": "light"
     },
     "output_type": "display_data"
    },
    {
     "name": "stdout",
     "output_type": "stream",
     "text": [
      "average_precision_score = 0.592\n",
      "precision_score = 0.526\n",
      "recall_score = 0.690\n",
      "roc_auc_score = 0.593\n"
     ]
    },
    {
     "data": {
      "image/png": "[encoded data removed]",
      "text/plain": [
       "<Figure size 576x432 with 2 Axes>"
      ]
     },
     "metadata": {
      "needs_background": "light"
     },
     "output_type": "display_data"
    },
    {
     "name": "stdout",
     "output_type": "stream",
     "text": [
      "average_precision_score = 0.565\n",
      "precision_score = 0.562\n",
      "recall_score = 0.444\n",
      "roc_auc_score = 0.582\n",
      "   Importance Feature_names\n",
      "6      0.3738           f13\n",
      "3      0.2375            f8\n",
      "0      0.1332            f5\n",
      "2      0.1224            f7\n",
      "1      0.0821            f6\n",
      "4      0.0354            f9\n",
      "5      0.0155           f11\n"
     ]
    },
    {
     "data": {
      "image/png": "[encoded data removed]",
      "text/plain": [
       "<Figure size 576x432 with 2 Axes>"
      ]
     },
     "metadata": {
      "needs_background": "light"
     },
     "output_type": "display_data"
    },
    {
     "name": "stdout",
     "output_type": "stream",
     "text": [
      "average_precision_score = 0.633\n",
      "precision_score = 0.585\n",
      "recall_score = 0.610\n",
      "roc_auc_score = 0.630\n",
      "   Importance Feature_names\n",
      "6      0.2443           f13\n",
      "3      0.2232            f8\n",
      "2      0.1845            f7\n",
      "0      0.1634            f5\n",
      "1      0.1318            f6\n",
      "4      0.0281            f9\n",
      "5      0.0246           f11\n"
     ]
    }
   ],
   "source": [
    "# BASELINE: Isolate the numeric variables\n",
    "clf_baseline_LR, clf_baseline_RF, clf_baseline_XG = preprocess_train_eval(df_num, printing=True)"
   ]
  },
  {
   "cell_type": "markdown",
   "metadata": {},
   "source": [
    "## Feature Engineering"
   ]
  },
  {
   "cell_type": "markdown",
   "metadata": {},
   "source": [
    "### One hot encoding"
   ]
  },
  {
   "cell_type": "code",
   "execution_count": 7,
   "metadata": {},
   "outputs": [],
   "source": [
    "def add_one_hot_encoded(df_baseline, df_to_ohe, col):\n",
    "    df_ohe = pd.get_dummies(df_to_ohe[col], columns=col)\n",
    "    df_out = df_baseline.join(df_ohe)\n",
    "    return df_out"
   ]
  },
  {
   "cell_type": "code",
   "execution_count": 8,
   "metadata": {},
   "outputs": [
    {
     "name": "stdout",
     "output_type": "stream",
     "text": [
      "LR ap = 0.687\n",
      "RF ap = 0.678\n",
      "XG ap = 0.718\n"
     ]
    }
   ],
   "source": [
    "# f1 only\n",
    "df_num_f1 = add_one_hot_encoded(df_num, df, [\"f1\"])\n",
    "preprocess_train_eval(df_num_f1, printing_ap=True, returning=False)"
   ]
  },
  {
   "cell_type": "code",
   "execution_count": 9,
   "metadata": {},
   "outputs": [
    {
     "name": "stdout",
     "output_type": "stream",
     "text": [
      "LR ap = 0.702\n",
      "RF ap = 0.703\n",
      "XG ap = 0.726\n"
     ]
    }
   ],
   "source": [
    "df_num_f1_f3 = add_one_hot_encoded(df_num_f1, df, \"f3\")\n",
    "preprocess_train_eval(df_num_f1_f3, printing_ap=True, returning=False)"
   ]
  },
  {
   "cell_type": "code",
   "execution_count": 10,
   "metadata": {},
   "outputs": [
    {
     "name": "stdout",
     "output_type": "stream",
     "text": [
      "LR ap = 0.703\n",
      "RF ap = 0.704\n",
      "XG ap = 0.726\n"
     ]
    }
   ],
   "source": [
    "df_num_f1_f3_f10 = add_one_hot_encoded(df_num_f1_f3, df, \"f10\")\n",
    "preprocess_train_eval(df_num_f1_f3_f10, printing_ap=True, returning=False)"
   ]
  },
  {
   "cell_type": "code",
   "execution_count": 11,
   "metadata": {},
   "outputs": [
    {
     "name": "stdout",
     "output_type": "stream",
     "text": [
      "LR ap = 0.706\n",
      "RF ap = 0.706\n",
      "XG ap = 0.736\n"
     ]
    }
   ],
   "source": [
    "df_num_f1_f3_f10_f12 = add_one_hot_encoded(df_num, df, [\"f1\", \"f3\", \"f10\", \"f12\"])\n",
    "preprocess_train_eval(df_num_f1_f3_f10_f12, printing_ap=True, returning=False)"
   ]
  },
  {
   "cell_type": "code",
   "execution_count": 12,
   "metadata": {},
   "outputs": [
    {
     "name": "stdout",
     "output_type": "stream",
     "text": [
      "LR ap = 0.706\n",
      "RF ap = 0.706\n",
      "XG ap = 0.736\n"
     ]
    }
   ],
   "source": [
    "df_num_f1_f3_f10_f12 = add_one_hot_encoded(df_num, df, [\"f1\", \"f3\", \"f10\", \"f12\"])\n",
    "preprocess_train_eval(df_num_f1_f3_f10_f12, printing_ap=True, returning=False)"
   ]
  },
  {
   "cell_type": "markdown",
   "metadata": {},
   "source": [
    "### label encoding"
   ]
  },
  {
   "cell_type": "code",
   "execution_count": 13,
   "metadata": {},
   "outputs": [
    {
     "name": "stdout",
     "output_type": "stream",
     "text": [
      "LR ap = 0.582\n",
      "RF ap = 0.764\n",
      "XG ap = 0.784\n"
     ]
    }
   ],
   "source": [
    "def fit_label_encoders(df_in):\n",
    "    fitted_label_encoders = {}\n",
    "    for col in df_in.dtypes[df_in.dtypes == object].index.tolist():\n",
    "        fitted_label_encoders[col] = LabelEncoder().fit(df_in[col])\n",
    "    return fitted_label_encoders\n",
    "\n",
    "def add_label_encoded(df_baseline, df_to_le, cols, fitted_label_encoders):\n",
    "    df_out = df_baseline.copy()\n",
    "    for col in cols:\n",
    "        df_le = fitted_label_encoders[col].transform(df_to_le[col])\n",
    "        df_out[col] = df_le\n",
    "    return df_out\n",
    "\n",
    "fitted_label_encoders = fit_label_encoders(df.drop(\"employee_id\", axis=1))\n",
    "\n",
    "df_num_allLE = add_label_encoded(df_num, df, [\"f1\", \"f2\", \"f3\", \"f4\", \"f10\", \"f12\"], fitted_label_encoders)\n",
    "\n",
    "op_allLE = preprocess_train_eval(df_num_allLE, printing_ap=True)"
   ]
  },
  {
   "cell_type": "markdown",
   "metadata": {},
   "source": [
    "#### Recursive Feature Elimination"
   ]
  },
  {
   "cell_type": "code",
   "execution_count": 14,
   "metadata": {},
   "outputs": [
    {
     "data": {
      "image/png": "[encoded data removed]",
      "text/plain": [
       "<Figure size 432x288 with 1 Axes>"
      ]
     },
     "metadata": {
      "needs_background": "light"
     },
     "output_type": "display_data"
    }
   ],
   "source": [
    "# recursive feature elimination\n",
    "feature_elim_col_name = []\n",
    "feature_elim_outputs_XG = []\n",
    "\n",
    "allLE_XG = op_allLE[\"XG\"]\n",
    "\n",
    "for col in allLE_XG[\"df_feature_importances\"].sort_values(\"Importance\", ascending=True)[\"Feature_names\"]:\n",
    "    if len(feature_elim_col_name) < len(allLE_XG[\"df_feature_importances\"]) - 1:\n",
    "        feature_elim_col_name.append(col)\n",
    "    \n",
    "        fe_XG = preprocess_train_eval(df_num_allLE.drop(feature_elim_col_name, axis=1), printing=False, printing_ap=False)[\"XG\"]\n",
    "        feature_elim_outputs_XG.append(fe_XG[\"ap\"])\n",
    "    \n",
    "plt.plot([x for x in range(len(feature_elim_col_name))], feature_elim_outputs_XG)\n",
    "plt.show()"
   ]
  },
  {
   "cell_type": "markdown",
   "metadata": {},
   "source": [
    "No real difference as features with the lowest importance are eliminated"
   ]
  },
  {
   "cell_type": "markdown",
   "metadata": {},
   "source": [
    "#### Polynomial features"
   ]
  },
  {
   "cell_type": "code",
   "execution_count": 15,
   "metadata": {},
   "outputs": [
    {
     "name": "stdout",
     "output_type": "stream",
     "text": [
      "Polynomial Features shape:  (4518, 84)\n",
      "Most correlated engineered features to TARGET:\n"
     ]
    },
    {
     "data": {
      "text/html": [
       "<div>\n",
       "<style scoped>\n",
       "    .dataframe tbody tr th:only-of-type {\n",
       "        vertical-align: middle;\n",
       "    }\n",
       "\n",
       "    .dataframe tbody tr th {\n",
       "        vertical-align: top;\n",
       "    }\n",
       "\n",
       "    .dataframe thead th {\n",
       "        text-align: right;\n",
       "    }\n",
       "</style>\n",
       "<table border=\"1\" class=\"dataframe\">\n",
       "  <thead>\n",
       "    <tr style=\"text-align: right;\">\n",
       "      <th></th>\n",
       "      <th>Var</th>\n",
       "      <th>Corr</th>\n",
       "      <th>Abs_Corr</th>\n",
       "    </tr>\n",
       "  </thead>\n",
       "  <tbody>\n",
       "    <tr>\n",
       "      <th>1</th>\n",
       "      <td>f8</td>\n",
       "      <td>-0.205664</td>\n",
       "      <td>0.205664</td>\n",
       "    </tr>\n",
       "    <tr>\n",
       "      <th>2</th>\n",
       "      <td>f7 f8</td>\n",
       "      <td>-0.201009</td>\n",
       "      <td>0.201009</td>\n",
       "    </tr>\n",
       "    <tr>\n",
       "      <th>3</th>\n",
       "      <td>f7</td>\n",
       "      <td>-0.199160</td>\n",
       "      <td>0.199160</td>\n",
       "    </tr>\n",
       "    <tr>\n",
       "      <th>4</th>\n",
       "      <td>f5 f7 f8</td>\n",
       "      <td>-0.195625</td>\n",
       "      <td>0.195625</td>\n",
       "    </tr>\n",
       "    <tr>\n",
       "      <th>5</th>\n",
       "      <td>f7 f8 f13</td>\n",
       "      <td>-0.191540</td>\n",
       "      <td>0.191540</td>\n",
       "    </tr>\n",
       "    <tr>\n",
       "      <th>6</th>\n",
       "      <td>f7 f8^2</td>\n",
       "      <td>-0.189113</td>\n",
       "      <td>0.189113</td>\n",
       "    </tr>\n",
       "    <tr>\n",
       "      <th>7</th>\n",
       "      <td>f5 f7</td>\n",
       "      <td>-0.188540</td>\n",
       "      <td>0.188540</td>\n",
       "    </tr>\n",
       "    <tr>\n",
       "      <th>8</th>\n",
       "      <td>f8^2</td>\n",
       "      <td>-0.187338</td>\n",
       "      <td>0.187338</td>\n",
       "    </tr>\n",
       "    <tr>\n",
       "      <th>9</th>\n",
       "      <td>f7 f13</td>\n",
       "      <td>-0.187224</td>\n",
       "      <td>0.187224</td>\n",
       "    </tr>\n",
       "    <tr>\n",
       "      <th>10</th>\n",
       "      <td>f5 f7 f13</td>\n",
       "      <td>-0.176779</td>\n",
       "      <td>0.176779</td>\n",
       "    </tr>\n",
       "    <tr>\n",
       "      <th>11</th>\n",
       "      <td>f5 f7^2</td>\n",
       "      <td>-0.171039</td>\n",
       "      <td>0.171039</td>\n",
       "    </tr>\n",
       "    <tr>\n",
       "      <th>12</th>\n",
       "      <td>f5^2 f7</td>\n",
       "      <td>-0.170307</td>\n",
       "      <td>0.170307</td>\n",
       "    </tr>\n",
       "    <tr>\n",
       "      <th>13</th>\n",
       "      <td>f8^2 f13</td>\n",
       "      <td>-0.167212</td>\n",
       "      <td>0.167212</td>\n",
       "    </tr>\n",
       "    <tr>\n",
       "      <th>14</th>\n",
       "      <td>f7^2</td>\n",
       "      <td>-0.166305</td>\n",
       "      <td>0.166305</td>\n",
       "    </tr>\n",
       "    <tr>\n",
       "      <th>15</th>\n",
       "      <td>f7 f13^2</td>\n",
       "      <td>-0.165915</td>\n",
       "      <td>0.165915</td>\n",
       "    </tr>\n",
       "    <tr>\n",
       "      <th>16</th>\n",
       "      <td>f8^3</td>\n",
       "      <td>-0.163677</td>\n",
       "      <td>0.163677</td>\n",
       "    </tr>\n",
       "    <tr>\n",
       "      <th>17</th>\n",
       "      <td>f7^2 f13</td>\n",
       "      <td>-0.159818</td>\n",
       "      <td>0.159818</td>\n",
       "    </tr>\n",
       "    <tr>\n",
       "      <th>18</th>\n",
       "      <td>f7^2 f8</td>\n",
       "      <td>-0.157086</td>\n",
       "      <td>0.157086</td>\n",
       "    </tr>\n",
       "    <tr>\n",
       "      <th>19</th>\n",
       "      <td>f8 f13</td>\n",
       "      <td>-0.136772</td>\n",
       "      <td>0.136772</td>\n",
       "    </tr>\n",
       "    <tr>\n",
       "      <th>20</th>\n",
       "      <td>f7^3</td>\n",
       "      <td>-0.121936</td>\n",
       "      <td>0.121936</td>\n",
       "    </tr>\n",
       "    <tr>\n",
       "      <th>21</th>\n",
       "      <td>f5 f8^2</td>\n",
       "      <td>-0.118835</td>\n",
       "      <td>0.118835</td>\n",
       "    </tr>\n",
       "    <tr>\n",
       "      <th>22</th>\n",
       "      <td>f6 f8^2</td>\n",
       "      <td>-0.116598</td>\n",
       "      <td>0.116598</td>\n",
       "    </tr>\n",
       "    <tr>\n",
       "      <th>23</th>\n",
       "      <td>f6 f8</td>\n",
       "      <td>-0.114559</td>\n",
       "      <td>0.114559</td>\n",
       "    </tr>\n",
       "    <tr>\n",
       "      <th>24</th>\n",
       "      <td>f6 f7</td>\n",
       "      <td>-0.113584</td>\n",
       "      <td>0.113584</td>\n",
       "    </tr>\n",
       "    <tr>\n",
       "      <th>25</th>\n",
       "      <td>f6 f7 f8</td>\n",
       "      <td>-0.112921</td>\n",
       "      <td>0.112921</td>\n",
       "    </tr>\n",
       "    <tr>\n",
       "      <th>26</th>\n",
       "      <td>f5 f6 f7</td>\n",
       "      <td>-0.111827</td>\n",
       "      <td>0.111827</td>\n",
       "    </tr>\n",
       "    <tr>\n",
       "      <th>27</th>\n",
       "      <td>f6 f7 f13</td>\n",
       "      <td>-0.107871</td>\n",
       "      <td>0.107871</td>\n",
       "    </tr>\n",
       "    <tr>\n",
       "      <th>28</th>\n",
       "      <td>f6 f8 f13</td>\n",
       "      <td>-0.107677</td>\n",
       "      <td>0.107677</td>\n",
       "    </tr>\n",
       "    <tr>\n",
       "      <th>29</th>\n",
       "      <td>f5^3</td>\n",
       "      <td>0.103771</td>\n",
       "      <td>0.103771</td>\n",
       "    </tr>\n",
       "    <tr>\n",
       "      <th>30</th>\n",
       "      <td>f5 f6 f8</td>\n",
       "      <td>-0.103634</td>\n",
       "      <td>0.103634</td>\n",
       "    </tr>\n",
       "    <tr>\n",
       "      <th>...</th>\n",
       "      <td>...</td>\n",
       "      <td>...</td>\n",
       "      <td>...</td>\n",
       "    </tr>\n",
       "    <tr>\n",
       "      <th>55</th>\n",
       "      <td>f6 f8 f11</td>\n",
       "      <td>-0.054508</td>\n",
       "      <td>0.054508</td>\n",
       "    </tr>\n",
       "    <tr>\n",
       "      <th>56</th>\n",
       "      <td>f7 f11^2</td>\n",
       "      <td>-0.053832</td>\n",
       "      <td>0.053832</td>\n",
       "    </tr>\n",
       "    <tr>\n",
       "      <th>57</th>\n",
       "      <td>f5 f8</td>\n",
       "      <td>-0.049783</td>\n",
       "      <td>0.049783</td>\n",
       "    </tr>\n",
       "    <tr>\n",
       "      <th>58</th>\n",
       "      <td>f6 f11 f13</td>\n",
       "      <td>-0.048652</td>\n",
       "      <td>0.048652</td>\n",
       "    </tr>\n",
       "    <tr>\n",
       "      <th>59</th>\n",
       "      <td>f6 f11</td>\n",
       "      <td>-0.048215</td>\n",
       "      <td>0.048215</td>\n",
       "    </tr>\n",
       "    <tr>\n",
       "      <th>60</th>\n",
       "      <td>f5 f8 f13</td>\n",
       "      <td>-0.047868</td>\n",
       "      <td>0.047868</td>\n",
       "    </tr>\n",
       "    <tr>\n",
       "      <th>61</th>\n",
       "      <td>f6^2 f11</td>\n",
       "      <td>-0.047802</td>\n",
       "      <td>0.047802</td>\n",
       "    </tr>\n",
       "    <tr>\n",
       "      <th>62</th>\n",
       "      <td>f8^2 f11</td>\n",
       "      <td>-0.045695</td>\n",
       "      <td>0.045695</td>\n",
       "    </tr>\n",
       "    <tr>\n",
       "      <th>63</th>\n",
       "      <td>f5 f6 f11</td>\n",
       "      <td>-0.045228</td>\n",
       "      <td>0.045228</td>\n",
       "    </tr>\n",
       "    <tr>\n",
       "      <th>64</th>\n",
       "      <td>f6 f11^2</td>\n",
       "      <td>-0.045181</td>\n",
       "      <td>0.045181</td>\n",
       "    </tr>\n",
       "    <tr>\n",
       "      <th>65</th>\n",
       "      <td>f8 f11 f13</td>\n",
       "      <td>-0.040562</td>\n",
       "      <td>0.040562</td>\n",
       "    </tr>\n",
       "    <tr>\n",
       "      <th>66</th>\n",
       "      <td>f8 f11</td>\n",
       "      <td>-0.037162</td>\n",
       "      <td>0.037162</td>\n",
       "    </tr>\n",
       "    <tr>\n",
       "      <th>67</th>\n",
       "      <td>f5 f13^2</td>\n",
       "      <td>0.034957</td>\n",
       "      <td>0.034957</td>\n",
       "    </tr>\n",
       "    <tr>\n",
       "      <th>68</th>\n",
       "      <td>f11 f13^2</td>\n",
       "      <td>-0.034073</td>\n",
       "      <td>0.034073</td>\n",
       "    </tr>\n",
       "    <tr>\n",
       "      <th>69</th>\n",
       "      <td>f5 f8 f11</td>\n",
       "      <td>-0.032609</td>\n",
       "      <td>0.032609</td>\n",
       "    </tr>\n",
       "    <tr>\n",
       "      <th>70</th>\n",
       "      <td>f8 f11^2</td>\n",
       "      <td>-0.032206</td>\n",
       "      <td>0.032206</td>\n",
       "    </tr>\n",
       "    <tr>\n",
       "      <th>71</th>\n",
       "      <td>f11 f13</td>\n",
       "      <td>-0.031432</td>\n",
       "      <td>0.031432</td>\n",
       "    </tr>\n",
       "    <tr>\n",
       "      <th>72</th>\n",
       "      <td>f5 f11 f13</td>\n",
       "      <td>-0.027573</td>\n",
       "      <td>0.027573</td>\n",
       "    </tr>\n",
       "    <tr>\n",
       "      <th>73</th>\n",
       "      <td>f11</td>\n",
       "      <td>-0.026918</td>\n",
       "      <td>0.026918</td>\n",
       "    </tr>\n",
       "    <tr>\n",
       "      <th>74</th>\n",
       "      <td>f11^2 f13</td>\n",
       "      <td>-0.026679</td>\n",
       "      <td>0.026679</td>\n",
       "    </tr>\n",
       "    <tr>\n",
       "      <th>75</th>\n",
       "      <td>f11^2</td>\n",
       "      <td>-0.024230</td>\n",
       "      <td>0.024230</td>\n",
       "    </tr>\n",
       "    <tr>\n",
       "      <th>76</th>\n",
       "      <td>f5 f11</td>\n",
       "      <td>-0.022074</td>\n",
       "      <td>0.022074</td>\n",
       "    </tr>\n",
       "    <tr>\n",
       "      <th>77</th>\n",
       "      <td>f11^3</td>\n",
       "      <td>-0.020183</td>\n",
       "      <td>0.020183</td>\n",
       "    </tr>\n",
       "    <tr>\n",
       "      <th>78</th>\n",
       "      <td>f5^2 f11</td>\n",
       "      <td>-0.019132</td>\n",
       "      <td>0.019132</td>\n",
       "    </tr>\n",
       "    <tr>\n",
       "      <th>79</th>\n",
       "      <td>f5 f11^2</td>\n",
       "      <td>-0.017450</td>\n",
       "      <td>0.017450</td>\n",
       "    </tr>\n",
       "    <tr>\n",
       "      <th>80</th>\n",
       "      <td>f13</td>\n",
       "      <td>-0.012771</td>\n",
       "      <td>0.012771</td>\n",
       "    </tr>\n",
       "    <tr>\n",
       "      <th>81</th>\n",
       "      <td>f5^2 f8</td>\n",
       "      <td>0.012333</td>\n",
       "      <td>0.012333</td>\n",
       "    </tr>\n",
       "    <tr>\n",
       "      <th>82</th>\n",
       "      <td>f13^2</td>\n",
       "      <td>-0.011932</td>\n",
       "      <td>0.011932</td>\n",
       "    </tr>\n",
       "    <tr>\n",
       "      <th>83</th>\n",
       "      <td>f13^3</td>\n",
       "      <td>-0.011026</td>\n",
       "      <td>0.011026</td>\n",
       "    </tr>\n",
       "    <tr>\n",
       "      <th>84</th>\n",
       "      <td>1</td>\n",
       "      <td>NaN</td>\n",
       "      <td>NaN</td>\n",
       "    </tr>\n",
       "  </tbody>\n",
       "</table>\n",
       "<p>84 rows × 3 columns</p>\n",
       "</div>"
      ],
      "text/plain": [
       "           Var      Corr  Abs_Corr\n",
       "1           f8 -0.205664  0.205664\n",
       "2        f7 f8 -0.201009  0.201009\n",
       "3           f7 -0.199160  0.199160\n",
       "4     f5 f7 f8 -0.195625  0.195625\n",
       "5    f7 f8 f13 -0.191540  0.191540\n",
       "6      f7 f8^2 -0.189113  0.189113\n",
       "7        f5 f7 -0.188540  0.188540\n",
       "8         f8^2 -0.187338  0.187338\n",
       "9       f7 f13 -0.187224  0.187224\n",
       "10   f5 f7 f13 -0.176779  0.176779\n",
       "11     f5 f7^2 -0.171039  0.171039\n",
       "12     f5^2 f7 -0.170307  0.170307\n",
       "13    f8^2 f13 -0.167212  0.167212\n",
       "14        f7^2 -0.166305  0.166305\n",
       "15    f7 f13^2 -0.165915  0.165915\n",
       "16        f8^3 -0.163677  0.163677\n",
       "17    f7^2 f13 -0.159818  0.159818\n",
       "18     f7^2 f8 -0.157086  0.157086\n",
       "19      f8 f13 -0.136772  0.136772\n",
       "20        f7^3 -0.121936  0.121936\n",
       "21     f5 f8^2 -0.118835  0.118835\n",
       "22     f6 f8^2 -0.116598  0.116598\n",
       "23       f6 f8 -0.114559  0.114559\n",
       "24       f6 f7 -0.113584  0.113584\n",
       "25    f6 f7 f8 -0.112921  0.112921\n",
       "26    f5 f6 f7 -0.111827  0.111827\n",
       "27   f6 f7 f13 -0.107871  0.107871\n",
       "28   f6 f8 f13 -0.107677  0.107677\n",
       "29        f5^3  0.103771  0.103771\n",
       "30    f5 f6 f8 -0.103634  0.103634\n",
       "..         ...       ...       ...\n",
       "55   f6 f8 f11 -0.054508  0.054508\n",
       "56    f7 f11^2 -0.053832  0.053832\n",
       "57       f5 f8 -0.049783  0.049783\n",
       "58  f6 f11 f13 -0.048652  0.048652\n",
       "59      f6 f11 -0.048215  0.048215\n",
       "60   f5 f8 f13 -0.047868  0.047868\n",
       "61    f6^2 f11 -0.047802  0.047802\n",
       "62    f8^2 f11 -0.045695  0.045695\n",
       "63   f5 f6 f11 -0.045228  0.045228\n",
       "64    f6 f11^2 -0.045181  0.045181\n",
       "65  f8 f11 f13 -0.040562  0.040562\n",
       "66      f8 f11 -0.037162  0.037162\n",
       "67    f5 f13^2  0.034957  0.034957\n",
       "68   f11 f13^2 -0.034073  0.034073\n",
       "69   f5 f8 f11 -0.032609  0.032609\n",
       "70    f8 f11^2 -0.032206  0.032206\n",
       "71     f11 f13 -0.031432  0.031432\n",
       "72  f5 f11 f13 -0.027573  0.027573\n",
       "73         f11 -0.026918  0.026918\n",
       "74   f11^2 f13 -0.026679  0.026679\n",
       "75       f11^2 -0.024230  0.024230\n",
       "76      f5 f11 -0.022074  0.022074\n",
       "77       f11^3 -0.020183  0.020183\n",
       "78    f5^2 f11 -0.019132  0.019132\n",
       "79    f5 f11^2 -0.017450  0.017450\n",
       "80         f13 -0.012771  0.012771\n",
       "81     f5^2 f8  0.012333  0.012333\n",
       "82       f13^2 -0.011932  0.011932\n",
       "83       f13^3 -0.011026  0.011026\n",
       "84           1       NaN       NaN\n",
       "\n",
       "[84 rows x 3 columns]"
      ]
     },
     "execution_count": 15,
     "metadata": {},
     "output_type": "execute_result"
    }
   ],
   "source": [
    "from sklearn.preprocessing import PolynomialFeatures\n",
    "\n",
    "# Make a new dataframe for polynomial features\n",
    "input_poly_features_list = ['f5', 'f6', 'f7', 'f8', 'f11', 'f13']\n",
    "poly_features = df[input_poly_features_list]\n",
    "\n",
    "# Create the polynomial object with specified degree\n",
    "poly_transformer = PolynomialFeatures(degree = 3)\n",
    "\n",
    "# Fit and transform the poly_transformer to the data\n",
    "poly_features = poly_transformer.fit_transform(poly_features)\n",
    "print('Polynomial Features shape: ', poly_features.shape)\n",
    "\n",
    "# Create a dataframe of the features \n",
    "poly_features_corr = pd.DataFrame(\n",
    "    poly_features, \n",
    "    columns = poly_transformer.get_feature_names(input_features = input_poly_features_list)\n",
    ")\n",
    "\n",
    "# Add in the target\n",
    "poly_features_corr['has_left'] = df[\"has_left\"].copy()\n",
    "\n",
    "# Find the correlations with the target\n",
    "poly_corrs = poly_features_corr.corr()['has_left'].sort_values()\n",
    "\n",
    "# Display most correlated to TARGET\n",
    "poly_corrs_df = pd.concat([poly_corrs, abs(poly_corrs)], axis=1).reset_index()\n",
    "poly_corrs_df.columns = [\"Var\", \"Corr\", \"Abs_Corr\"]\n",
    "poly_corrs_df.sort_values(by=\"Abs_Corr\", ascending=False, inplace=True)\n",
    "poly_corrs_df.reset_index(inplace=True, drop=True)\n",
    "print(\"Most correlated engineered features to TARGET:\")\n",
    "poly_corrs_df.drop(0)"
   ]
  },
  {
   "cell_type": "code",
   "execution_count": 16,
   "metadata": {},
   "outputs": [
    {
     "name": "stdout",
     "output_type": "stream",
     "text": [
      "No resampling:\n",
      "LR ap = 0.585\n",
      "LR rs = 0.355\n",
      "RF ap = 0.774\n",
      "RF rs = 0.559\n",
      "XG ap = 0.788\n",
      "XG rs = 0.532\n",
      "\n",
      "Resampling:\n",
      "LR ap = 0.582\n",
      "LR rs = 0.678\n",
      "RF ap = 0.764\n",
      "RF rs = 0.603\n",
      "XG ap = 0.784\n",
      "XG rs = 0.684\n",
      "\n",
      "Resampling and Polynomial Features\n",
      "LR ap = 0.586\n",
      "LR rs = 0.643\n",
      "RF ap = 0.634\n",
      "RF rs = 0.550\n",
      "XG ap = 0.772\n",
      "XG rs = 0.690\n"
     ]
    }
   ],
   "source": [
    "print(\"No resampling:\")\n",
    "preprocess_train_eval(\n",
    "    df_num_allLE, \n",
    "    printing=False, printing_ap=True, printing_rs=True, returning=False,\n",
    "    preprocessing_function=pre_ml_process_no_resample)\n",
    "\n",
    "print(\"\\nResampling:\")\n",
    "preprocess_train_eval(\n",
    "    df_num_allLE, \n",
    "    printing=False, printing_ap=True, printing_rs=True, returning=False)\n",
    "\n",
    "print(\"\\nResampling and Polynomial Features\")\n",
    "preprocess_train_eval(\n",
    "    df_num_allLE, \n",
    "    printing=False, printing_ap=True, printing_rs=True, returning=False,\n",
    "    preprocessing_function=pre_ml_process_resample_PolyFeatures)"
   ]
  },
  {
   "cell_type": "markdown",
   "metadata": {},
   "source": [
    "#### Hyperparameter Tuning"
   ]
  },
  {
   "cell_type": "code",
   "execution_count": 17,
   "metadata": {},
   "outputs": [
    {
     "name": "stdout",
     "output_type": "stream",
     "text": [
      "Randomized search..\n",
      "Randomized search time: 122.50211262702942 \n",
      "\n",
      "Best score: 0.8025114155251142\n",
      "Best params: \n",
      "colsample_bylevel: 0.9\n",
      "colsample_bytree: 1.0\n",
      "gamma: 0.25\n",
      "learning_rate: 0.2\n",
      "max_depth: 10\n",
      "min_child_weight: 0.5\n",
      "n_estimators: 100\n",
      "reg_lambda: 0.1\n",
      "subsample: 0.9\n"
     ]
    }
   ],
   "source": [
    "from sklearn.model_selection import RandomizedSearchCV, GridSearchCV\n",
    "import time\n",
    "\n",
    "df_ignore, X, y, X_train, X_test, y_train, y_test, \\\n",
    "        scaler, X_train_resample_scaled, y_train_resample, \\\n",
    "        X_test_scaled, ros, poly = pre_ml_process(df_num_allLE, \n",
    "                                                  train_test_split_random_state=0, \n",
    "                                                  RandomOverSampler_random_state=0)\n",
    "\n",
    "    \n",
    "param_grid = {\n",
    "        'max_depth': [3, 6, 10, 15, 20],\n",
    "        'learning_rate': [0.001, 0.01, 0.1, 0.2, 0,3],\n",
    "        'subsample': [0.5, 0.6, 0.7, 0.8, 0.9, 1.0],\n",
    "        'colsample_bytree': [0.4, 0.5, 0.6, 0.7, 0.8, 0.9, 1.0],\n",
    "        'colsample_bylevel': [0.4, 0.5, 0.6, 0.7, 0.8, 0.9, 1.0],\n",
    "        'min_child_weight': [0.5, 1.0, 3.0, 5.0, 7.0, 10.0],\n",
    "        'gamma': [0, 0.25, 0.5, 1.0],\n",
    "        'reg_lambda': [0.1, 1.0, 5.0, 10.0, 50.0, 100.0],\n",
    "        'n_estimators': [100]}\n",
    "\n",
    "# param_grid = {\n",
    "#         'silent': [True],\n",
    "#         'max_depth': [3, 6, ],\n",
    "#         'n_estimators': [100]}\n",
    "\n",
    "clf=xgb.XGBClassifier()\n",
    "\n",
    "rs_clf = RandomizedSearchCV(clf, param_grid, n_iter=100,\n",
    "                            n_jobs=1, verbose=0, cv=5,\n",
    "#                             scoring='neg_log_loss', \n",
    "                            refit=True, random_state=42)\n",
    "\n",
    "\n",
    "print(\"Randomized search..\")\n",
    "search_time_start = time.time()\n",
    "rs_clf.fit(X_train_resample_scaled, y_train_resample, eval_metric='aucpr')\n",
    "print(\"Randomized search time:\", time.time() - search_time_start, \"\\n\")\n",
    "\n",
    "best_score = rs_clf.best_score_\n",
    "best_params = rs_clf.best_params_\n",
    "print(\"Best score: {}\".format(best_score))\n",
    "print(\"Best params: \")\n",
    "for param_name in sorted(best_params.keys()):\n",
    "    print('%s: %r' % (param_name, best_params[param_name]))"
   ]
  },
  {
   "cell_type": "code",
   "execution_count": 18,
   "metadata": {},
   "outputs": [
    {
     "data": {
      "text/plain": [
       "{'base_score': 0.5,\n",
       " 'booster': 'gbtree',\n",
       " 'colsample_bylevel': 1,\n",
       " 'colsample_bytree': 1,\n",
       " 'gamma': 0,\n",
       " 'learning_rate': 0.1,\n",
       " 'max_delta_step': 0,\n",
       " 'max_depth': 3,\n",
       " 'min_child_weight': 1,\n",
       " 'missing': None,\n",
       " 'n_estimators': 100,\n",
       " 'n_jobs': 1,\n",
       " 'nthread': None,\n",
       " 'objective': 'binary:logistic',\n",
       " 'random_state': 0,\n",
       " 'reg_alpha': 0,\n",
       " 'reg_lambda': 1,\n",
       " 'scale_pos_weight': 1,\n",
       " 'seed': None,\n",
       " 'silent': True,\n",
       " 'subsample': 1}"
      ]
     },
     "execution_count": 18,
     "metadata": {},
     "output_type": "execute_result"
    }
   ],
   "source": [
    "op_allLE[\"XG\"][\"clf\"].get_params()"
   ]
  },
  {
   "cell_type": "code",
   "execution_count": 19,
   "metadata": {},
   "outputs": [
    {
     "name": "stdout",
     "output_type": "stream",
     "text": [
      "average_precision_score:\n",
      "\tDefault Hyper Params: 0.811149658792298\n",
      "\tRandSer Hyper Params: 0.7846121859733777\n",
      "recall_score:\n",
      "\tDefault Hyper Params: 0.6749611197511665\n",
      "\tRandSer Hyper Params: 0.6516329704510109\n",
      "precision_score:\n",
      "\tDefault Hyper Params: 0.7368421052631579\n",
      "\tRandSer Hyper Params: 0.7065767284991569\n",
      "roc_auc_score:\n",
      "\tDefault Hyper Params: 0.746089050441621\n",
      "\tRandSer Hyper Params: 0.7232221456028639\n"
     ]
    }
   ],
   "source": [
    "from sklearn.model_selection import RandomizedSearchCV, GridSearchCV\n",
    "import time\n",
    "\n",
    "df_ignore, X, y, X_train, X_test, y_train, y_test, \\\n",
    "        scaler, X_train_resample_scaled, y_train_resample, \\\n",
    "        X_test_scaled, ros, poly = pre_ml_process(df_num_allLE, \n",
    "                                                  train_test_split_random_state=0, \n",
    "                                                  RandomOverSampler_random_state=0)\n",
    "\n",
    "clf_best_rs = xgb.XGBClassifier()\n",
    "clf_best_rs.set_params(**best_params)\n",
    "clf_best_rs.fit(X_train_resample_scaled, y_train_resample, eval_metric='aucpr')\n",
    "\n",
    "metrics = [average_precision_score, recall_score, precision_score, roc_auc_score]\n",
    "metric_names = [\"average_precision_score\", \"recall_score\", \"precision_score\", \"roc_auc_score\"]\n",
    "\n",
    "for metric, m_name in zip(metrics, metric_names):\n",
    "    orig = output_metrics(op_allLE[\"XG\"][\"clf\"], X_test_scaled, y_test, metric, printing=False)\n",
    "    rsbest = output_metrics(clf_best_rs, X_test_scaled, y_test, metric, printing=False)\n",
    "    print(\"{}:\\n\\tDefault Hyper Params: {}\\n\\tRandSer Hyper Params: {}\".format(m_name, orig, rsbest))"
   ]
  },
  {
   "cell_type": "markdown",
   "metadata": {},
   "source": [
    "The default hyper parameters out performed a randomised hyper parameter search when the trained algorithms were evaluated on the test set. This is likely due to the best random search model overfitting its training data"
   ]
  },
  {
   "cell_type": "markdown",
   "metadata": {},
   "source": [
    "#### Increasing n_estimators"
   ]
  },
  {
   "cell_type": "code",
   "execution_count": 20,
   "metadata": {},
   "outputs": [
    {
     "name": "stdout",
     "output_type": "stream",
     "text": [
      "average_precision_score:\n",
      "\tDefault Hyper Params: 0.811149658792298\n",
      "\tRandSer Hyper Params: 0.8336194904347973\n",
      "recall_score:\n",
      "\tDefault Hyper Params: 0.6749611197511665\n",
      "\tRandSer Hyper Params: 0.6920684292379471\n",
      "precision_score:\n",
      "\tDefault Hyper Params: 0.7368421052631579\n",
      "\tRandSer Hyper Params: 0.7355371900826446\n",
      "roc_auc_score:\n",
      "\tDefault Hyper Params: 0.746089050441621\n",
      "\tRandSer Hyper Params: 0.7516945919774641\n"
     ]
    }
   ],
   "source": [
    "df_ignore, X, y, X_train, X_test, y_train, y_test, \\\n",
    "        scaler, X_train_resample_scaled, y_train_resample, \\\n",
    "        X_test_scaled, ros, poly = pre_ml_process(df_num_allLE, \n",
    "                                                  train_test_split_random_state=0, \n",
    "                                                  RandomOverSampler_random_state=0)\n",
    "\n",
    "clf_XG_10000 = xgb.XGBClassifier(random_state=0, n_estimators=1000)\n",
    "\n",
    "clf_XG_10000.fit(X_train_resample_scaled, y_train_resample, eval_metric='aucpr')\n",
    "\n",
    "metrics = [average_precision_score, recall_score, precision_score, roc_auc_score]\n",
    "metric_names = [\"average_precision_score\", \"recall_score\", \"precision_score\", \"roc_auc_score\"]\n",
    "\n",
    "for metric, m_name in zip(metrics, metric_names):\n",
    "    orig = output_metrics(op_allLE[\"XG\"][\"clf\"], X_test_scaled, y_test, metric, printing=False)\n",
    "    rsbest = output_metrics(clf_XG_10000, X_test_scaled, y_test, metric, printing=False)\n",
    "    print(\"{}:\\n\\tDefault Hyper Params: {}\\n\\tRandSer Hyper Params: {}\".format(m_name, orig, rsbest))"
   ]
  },
  {
   "cell_type": "markdown",
   "metadata": {},
   "source": [
    "Increasing the number of estimators improves model performance"
   ]
  },
  {
   "cell_type": "code",
   "execution_count": 21,
   "metadata": {},
   "outputs": [
    {
     "name": "stdout",
     "output_type": "stream",
     "text": [
      "average_precision_score:\n",
      "\tDefault Hyper Params: 0.811149658792298\n",
      "\tRandSer Hyper Params: 0.8336194904347973\n",
      "recall_score:\n",
      "\tDefault Hyper Params: 0.6749611197511665\n",
      "\tRandSer Hyper Params: 0.6920684292379471\n",
      "precision_score:\n",
      "\tDefault Hyper Params: 0.7368421052631579\n",
      "\tRandSer Hyper Params: 0.7355371900826446\n",
      "roc_auc_score:\n",
      "\tDefault Hyper Params: 0.746089050441621\n",
      "\tRandSer Hyper Params: 0.7516945919774641\n"
     ]
    }
   ],
   "source": [
    "# FE\n",
    "df_ignore, X, y, X_train, X_test, y_train, y_test, \\\n",
    "        scaler, X_train_resample_scaled, y_train_resample, \\\n",
    "        X_test_scaled, ros, poly = pre_ml_process(df_num_allLE, \n",
    "                                                  train_test_split_random_state=0, \n",
    "                                                  RandomOverSampler_random_state=0)\n",
    "\n",
    "clf_XG_10000 = xgb.XGBClassifier(random_state=0, n_estimators=1000)\n",
    "\n",
    "clf_XG_10000.fit(X_train_resample_scaled, y_train_resample, eval_metric='aucpr')\n",
    "\n",
    "metrics = [average_precision_score, recall_score, precision_score, roc_auc_score]\n",
    "metric_names = [\"average_precision_score\", \"recall_score\", \"precision_score\", \"roc_auc_score\"]\n",
    "\n",
    "for metric, m_name in zip(metrics, metric_names):\n",
    "    orig = output_metrics(op_allLE[\"XG\"][\"clf\"], X_test_scaled, y_test, metric, printing=False)\n",
    "    rsbest = output_metrics(clf_XG_10000, X_test_scaled, y_test, metric, printing=False)\n",
    "    print(\"{}:\\n\\tDefault Hyper Params: {}\\n\\tRandSer Hyper Params: {}\".format(m_name, orig, rsbest))"
   ]
  },
  {
   "cell_type": "code",
   "execution_count": 23,
   "metadata": {},
   "outputs": [
    {
     "data": {
      "text/html": [
       "<div>\n",
       "<style scoped>\n",
       "    .dataframe tbody tr th:only-of-type {\n",
       "        vertical-align: middle;\n",
       "    }\n",
       "\n",
       "    .dataframe tbody tr th {\n",
       "        vertical-align: top;\n",
       "    }\n",
       "\n",
       "    .dataframe thead th {\n",
       "        text-align: right;\n",
       "    }\n",
       "</style>\n",
       "<table border=\"1\" class=\"dataframe\">\n",
       "  <thead>\n",
       "    <tr style=\"text-align: right;\">\n",
       "      <th></th>\n",
       "      <th>Importance</th>\n",
       "      <th>Feature</th>\n",
       "    </tr>\n",
       "  </thead>\n",
       "  <tbody>\n",
       "    <tr>\n",
       "      <th>0</th>\n",
       "      <td>0.1805</td>\n",
       "      <td>f13</td>\n",
       "    </tr>\n",
       "    <tr>\n",
       "      <th>1</th>\n",
       "      <td>0.1619</td>\n",
       "      <td>f2</td>\n",
       "    </tr>\n",
       "    <tr>\n",
       "      <th>2</th>\n",
       "      <td>0.1485</td>\n",
       "      <td>f8</td>\n",
       "    </tr>\n",
       "    <tr>\n",
       "      <th>3</th>\n",
       "      <td>0.1065</td>\n",
       "      <td>f7</td>\n",
       "    </tr>\n",
       "    <tr>\n",
       "      <th>4</th>\n",
       "      <td>0.0970</td>\n",
       "      <td>f4</td>\n",
       "    </tr>\n",
       "    <tr>\n",
       "      <th>5</th>\n",
       "      <td>0.0920</td>\n",
       "      <td>f1</td>\n",
       "    </tr>\n",
       "    <tr>\n",
       "      <th>6</th>\n",
       "      <td>0.0628</td>\n",
       "      <td>f6</td>\n",
       "    </tr>\n",
       "    <tr>\n",
       "      <th>7</th>\n",
       "      <td>0.0482</td>\n",
       "      <td>f5</td>\n",
       "    </tr>\n",
       "    <tr>\n",
       "      <th>8</th>\n",
       "      <td>0.0304</td>\n",
       "      <td>f12</td>\n",
       "    </tr>\n",
       "    <tr>\n",
       "      <th>9</th>\n",
       "      <td>0.0277</td>\n",
       "      <td>f3</td>\n",
       "    </tr>\n",
       "    <tr>\n",
       "      <th>10</th>\n",
       "      <td>0.0154</td>\n",
       "      <td>f9</td>\n",
       "    </tr>\n",
       "    <tr>\n",
       "      <th>11</th>\n",
       "      <td>0.0149</td>\n",
       "      <td>f11</td>\n",
       "    </tr>\n",
       "    <tr>\n",
       "      <th>12</th>\n",
       "      <td>0.0141</td>\n",
       "      <td>f10</td>\n",
       "    </tr>\n",
       "  </tbody>\n",
       "</table>\n",
       "</div>"
      ],
      "text/plain": [
       "    Importance Feature\n",
       "0       0.1805     f13\n",
       "1       0.1619      f2\n",
       "2       0.1485      f8\n",
       "3       0.1065      f7\n",
       "4       0.0970      f4\n",
       "5       0.0920      f1\n",
       "6       0.0628      f6\n",
       "7       0.0482      f5\n",
       "8       0.0304     f12\n",
       "9       0.0277      f3\n",
       "10      0.0154      f9\n",
       "11      0.0149     f11\n",
       "12      0.0141     f10"
      ]
     },
     "execution_count": 23,
     "metadata": {},
     "output_type": "execute_result"
    }
   ],
   "source": [
    "df_feature_importances = pd.DataFrame(clf_XG_10000.feature_importances_, columns=[\"Importance\"])\n",
    "col_names = df_num_allLE.columns.tolist()\n",
    "col_names.remove(\"has_left\")\n",
    "df_feature_importances[\"Feature\"] = col_names\n",
    "df_feature_importances.sort_values(\"Importance\", ascending=False, inplace=True)\n",
    "df_feature_importances = df_feature_importances.round(4)\n",
    "df_feature_importances.reset_index(drop=True)"
   ]
  },
  {
   "cell_type": "markdown",
   "metadata": {},
   "source": [
    "#### Subtracting features"
   ]
  },
  {
   "cell_type": "code",
   "execution_count": 24,
   "metadata": {},
   "outputs": [
    {
     "name": "stdout",
     "output_type": "stream",
     "text": [
      "average_precision_score:\n",
      "\t0.7491484983569943\n",
      "\n",
      "recall_score:\n",
      "\t0.6360808709175739\n",
      "\n",
      "precision_score:\n",
      "\t0.6650406504065041\n",
      "\n",
      "roc_auc_score:\n",
      "\t0.6965781713078435\n",
      "\n"
     ]
    }
   ],
   "source": [
    "df_num_allLE_subtr = df_num_allLE.copy()\n",
    "num_cols = ['f5', 'f6', 'f7', 'f8', 'f13']\n",
    "for i in num_cols:\n",
    "    for j in num_cols:\n",
    "        if i!=j:\n",
    "            df_num_allLE_subtr[\"{}-{}\".format(i, j)] = df_num_allLE[i] - df_num_allLE[j]\n",
    "\n",
    "df_ignore, X, y, X_train, X_test, y_train, y_test, \\\n",
    "        scaler, X_train_resample_scaled, y_train_resample, \\\n",
    "        X_test_scaled, ros, poly = pre_ml_process(df_num_allLE_subtr, \n",
    "                                                  train_test_split_random_state=0, \n",
    "                                                  RandomOverSampler_random_state=0)\n",
    "\n",
    "clf_XG_10000 = xgb.XGBClassifier(random_state=0, n_estimators=10000)\n",
    "\n",
    "clf_XG_10000.fit(X_train_resample_scaled, y_train_resample, eval_metric='aucpr')\n",
    "\n",
    "metrics = [average_precision_score, recall_score, precision_score, roc_auc_score]\n",
    "metric_names = [\"average_precision_score\", \"recall_score\", \"precision_score\", \"roc_auc_score\"]\n",
    "\n",
    "for metric, m_name in zip(metrics, metric_names):\n",
    "    rsbest = output_metrics(clf_XG_10000, X_test_scaled, y_test, metric, printing=False)\n",
    "    print(\"{}:\\n\\t{}\\n\".format(m_name, rsbest))"
   ]
  },
  {
   "cell_type": "markdown",
   "metadata": {
    "toc-hr-collapsed": false
   },
   "source": [
    "## PCA Dimensionality Reduction"
   ]
  },
  {
   "cell_type": "markdown",
   "metadata": {},
   "source": [
    "### PCA f2"
   ]
  },
  {
   "cell_type": "code",
   "execution_count": 26,
   "metadata": {},
   "outputs": [
    {
     "name": "stdout",
     "output_type": "stream",
     "text": [
      "LR ap = 0.625\n",
      "RF ap = 0.718\n",
      "XG ap = 0.753\n"
     ]
    }
   ],
   "source": [
    "cols = \"f2\"\n",
    "df_f2_ohe = pd.get_dummies(df[cols])\n",
    "pca_f2 = PCA(n_components=10).fit(df_f2_ohe)\n",
    "df_f2_pca = pd.DataFrame(pca_f2.transform(df_f2_ohe))\n",
    "df_num_f2 = df_num.reset_index(drop=True).join(df_f2_pca)\n",
    "\n",
    "preprocess_train_eval(df_num_f2, returning=False, printing_ap=True)"
   ]
  },
  {
   "cell_type": "markdown",
   "metadata": {},
   "source": [
    "### PCA f2 and join to ohe'd others"
   ]
  },
  {
   "cell_type": "code",
   "execution_count": 27,
   "metadata": {},
   "outputs": [
    {
     "name": "stderr",
     "output_type": "stream",
     "text": [
      "C:\\Users\\Kieron\\Anaconda3\\lib\\site-packages\\sklearn\\linear_model\\logistic.py:758: ConvergenceWarning: lbfgs failed to converge. Increase the number of iterations.\n",
      "  \"of iterations.\", ConvergenceWarning)\n"
     ]
    },
    {
     "name": "stdout",
     "output_type": "stream",
     "text": [
      "LR ap = 0.716\n",
      "RF ap = 0.804\n",
      "XG ap = 0.796\n"
     ]
    }
   ],
   "source": [
    "cols = \"f2\"\n",
    "df_f2_ohe = pd.get_dummies(df[cols])\n",
    "pca_f2 = PCA(n_components=10).fit(df_f2_ohe)\n",
    "df_f2_pca = pd.DataFrame(pca_f2.transform(df_f2_ohe))\n",
    "df_num_f2 = df_num.reset_index(drop=True).join(df_f2_pca)\n",
    "\n",
    "df_num_f1_f3_f10_f12_PCAf2 = add_one_hot_encoded(df_num_f2, df.reset_index(drop=True), [\"f1\", \"f3\", \"f10\", \"f12\"])\n",
    "\n",
    "preprocess_train_eval(df_num_f1_f3_f10_f12_PCAf2, returning=False, printing_ap=True)"
   ]
  },
  {
   "cell_type": "markdown",
   "metadata": {},
   "source": [
    "### PCA all categoricals"
   ]
  },
  {
   "cell_type": "code",
   "execution_count": 40,
   "metadata": {},
   "outputs": [
    {
     "name": "stderr",
     "output_type": "stream",
     "text": [
      "C:\\Users\\Kieron\\Anaconda3\\lib\\site-packages\\sklearn\\linear_model\\logistic.py:758: ConvergenceWarning: lbfgs failed to converge. Increase the number of iterations.\n",
      "  \"of iterations.\", ConvergenceWarning)\n",
      "C:\\Users\\Kieron\\Anaconda3\\lib\\site-packages\\sklearn\\linear_model\\logistic.py:758: ConvergenceWarning: lbfgs failed to converge. Increase the number of iterations.\n",
      "  \"of iterations.\", ConvergenceWarning)\n",
      "C:\\Users\\Kieron\\Anaconda3\\lib\\site-packages\\sklearn\\linear_model\\logistic.py:758: ConvergenceWarning: lbfgs failed to converge. Increase the number of iterations.\n",
      "  \"of iterations.\", ConvergenceWarning)\n",
      "C:\\Users\\Kieron\\Anaconda3\\lib\\site-packages\\sklearn\\linear_model\\logistic.py:758: ConvergenceWarning: lbfgs failed to converge. Increase the number of iterations.\n",
      "  \"of iterations.\", ConvergenceWarning)\n",
      "C:\\Users\\Kieron\\Anaconda3\\lib\\site-packages\\sklearn\\linear_model\\logistic.py:758: ConvergenceWarning: lbfgs failed to converge. Increase the number of iterations.\n",
      "  \"of iterations.\", ConvergenceWarning)\n",
      "C:\\Users\\Kieron\\Anaconda3\\lib\\site-packages\\sklearn\\linear_model\\logistic.py:758: ConvergenceWarning: lbfgs failed to converge. Increase the number of iterations.\n",
      "  \"of iterations.\", ConvergenceWarning)\n",
      "C:\\Users\\Kieron\\Anaconda3\\lib\\site-packages\\sklearn\\linear_model\\logistic.py:758: ConvergenceWarning: lbfgs failed to converge. Increase the number of iterations.\n",
      "  \"of iterations.\", ConvergenceWarning)\n",
      "C:\\Users\\Kieron\\Anaconda3\\lib\\site-packages\\sklearn\\linear_model\\logistic.py:758: ConvergenceWarning: lbfgs failed to converge. Increase the number of iterations.\n",
      "  \"of iterations.\", ConvergenceWarning)\n",
      "C:\\Users\\Kieron\\Anaconda3\\lib\\site-packages\\sklearn\\linear_model\\logistic.py:758: ConvergenceWarning: lbfgs failed to converge. Increase the number of iterations.\n",
      "  \"of iterations.\", ConvergenceWarning)\n"
     ]
    },
    {
     "data": {
      "image/png": "[encoded data removed]",
      "text/plain": [
       "<Figure size 1080x648 with 1 Axes>"
      ]
     },
     "metadata": {
      "needs_background": "light"
     },
     "output_type": "display_data"
    },
    {
     "data": {
      "image/png": "[encoded data removed]",
      "text/plain": [
       "<Figure size 1080x648 with 1 Axes>"
      ]
     },
     "metadata": {
      "needs_background": "light"
     },
     "output_type": "display_data"
    }
   ],
   "source": [
    "cols = [\"f1\", \"f2\", \"f3\", \"f10\", \"f12\"]\n",
    "df_all_ohe = pd.get_dummies(df[cols])\n",
    "\n",
    "n_components_list = []\n",
    "ap_LR_list = []\n",
    "ap_RF_list = []\n",
    "ap_XG_list = []\n",
    "\n",
    "rs_LR_list = []\n",
    "rs_RF_list = []\n",
    "rs_XG_list = []\n",
    "\n",
    "for i in range(10, 100, 3):\n",
    "\n",
    "    pca_all = PCA(n_components=i).fit(df_all_ohe)\n",
    "    df_allPCA = pd.DataFrame(pca_all.transform(df_all_ohe))\n",
    "    df_num_allPCA = df_num.reset_index(drop=True).join(df_allPCA)\n",
    "\n",
    "    output_PCA_x = preprocess_train_eval(df_num_allPCA, printing=False, printing_ap=False,\n",
    "                                                                       returning=True)\n",
    "    \n",
    "    n_components_list.append(i)\n",
    "    ap_LR_list.append(output_PCA_x[\"LR\"][\"ap\"])\n",
    "    ap_RF_list.append(output_PCA_x[\"RF\"][\"ap\"])\n",
    "    ap_XG_list.append(output_PCA_x[\"XG\"][\"ap\"])\n",
    "    \n",
    "    rs_LR_list.append(output_PCA_x[\"LR\"][\"ap\"])\n",
    "    rs_RF_list.append(output_PCA_x[\"RF\"][\"ap\"])\n",
    "    rs_XG_list.append(output_PCA_x[\"RF\"][\"rs\"])\n",
    "    \n",
    "plt.figure(figsize=(15, 9))\n",
    "plt.plot(n_components_list, ap_LR_list, \"x-\", label=\"LR\")\n",
    "plt.plot(n_components_list, ap_RF_list, \"x-\", label=\"RF\")\n",
    "plt.plot(n_components_list, ap_XG_list, \"x-\", label=\"XG\")\n",
    "plt.legend(loc=\"best\")\n",
    "plt.title(\"Average Precision against Number of Components\")\n",
    "plt.show()\n",
    "\n",
    "plt.figure(figsize=(15, 9))\n",
    "plt.plot(n_components_list, rs_LR_list, \"x-\", label=\"LR\")\n",
    "plt.plot(n_components_list, rs_RF_list, \"x-\", label=\"RF\")\n",
    "plt.plot(n_components_list, rs_XG_list, \"x-\", label=\"XG\")\n",
    "plt.legend(loc=\"best\")\n",
    "plt.title(\"Recall against Number of Components\")\n",
    "plt.show()"
   ]
  },
  {
   "cell_type": "markdown",
   "metadata": {},
   "source": [
    "60 components is where the gain in average precision levels off for the three algorithms.\n",
    "\n",
    "The recall score for XGBoost is not overally affected by increasing components (and similar for random forest) but again 60 components is around when Linear Regression begins to level off in gained recall."
   ]
  },
  {
   "cell_type": "code",
   "execution_count": 41,
   "metadata": {},
   "outputs": [
    {
     "name": "stdout",
     "output_type": "stream",
     "text": [
      "LR ap = 0.762\n",
      "RF ap = 0.799\n",
      "XG ap = 0.825\n"
     ]
    }
   ],
   "source": [
    "cols = [\"f1\", \"f2\", \"f3\", \"f10\", \"f12\"]\n",
    "df_all_ohe = pd.get_dummies(df[cols])\n",
    "\n",
    "\n",
    "pca_all = PCA(n_components=60).fit(df_all_ohe)\n",
    "df_allPCA = pd.DataFrame(pca_all.transform(df_all_ohe))\n",
    "df_num_allPCA = df_num.reset_index(drop=True).join(df_allPCA)\n",
    "\n",
    "\n",
    "op_allPCA = preprocess_train_eval(df_num_allPCA, printing=False, printing_ap=True)"
   ]
  }
 ],
 "metadata": {
  "kernelspec": {
   "display_name": "Python 3",
   "language": "python",
   "name": "python3"
  },
  "language_info": {
   "codemirror_mode": {
    "name": "ipython",
    "version": 3
   },
   "file_extension": ".py",
   "mimetype": "text/x-python",
   "name": "python",
   "nbconvert_exporter": "python",
   "pygments_lexer": "ipython3",
   "version": "3.7.1"
  }
 },
 "nbformat": 4,
 "nbformat_minor": 2
}
